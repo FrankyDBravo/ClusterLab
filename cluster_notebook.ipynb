{
 "cells": [
  {
   "cell_type": "code",
   "execution_count": 1,
   "metadata": {},
   "outputs": [],
   "source": [
    "from subprocess import call\n",
    "import subprocess\n",
    "import os\n",
    "import sys"
   ]
  },
  {
   "cell_type": "markdown",
   "metadata": {},
   "source": [
    "## Outbreak"
   ]
  },
  {
   "cell_type": "code",
   "execution_count": null,
   "metadata": {},
   "outputs": [],
   "source": [
    "call([\"make\",\"-f\",\"makefile_cluster\"])"
   ]
  },
  {
   "cell_type": "code",
   "execution_count": null,
   "metadata": {},
   "outputs": [],
   "source": [
    "call(['rm', 'main_cluster.o'])"
   ]
  },
  {
   "cell_type": "code",
   "execution_count": 2,
   "metadata": {},
   "outputs": [],
   "source": [
    "call(['cp','SLURM_job_base.sh','SLURM_job.sh'])\n",
    "call(['cp','taskfile_base','taskfile'])\n",
    "\n",
    "d=\"1\"\n",
    "num_file=\"20\"\n",
    "mu=\"1\"\n",
    "size=\"1e6\"\n",
    "prefactor=\"10\"\n",
    "exponent=\"0.25\"\n",
    "\n",
    "directory=\"./data/outbreak/\"+\"d\"+d+\"u\"+mu+\"c\"+prefactor+\"r\"+exponent+\"t\"+size\n",
    "try:\n",
    "    os.stat(directory)\n",
    "except:\n",
    "    os.mkdir(directory)\n",
    "    \n",
    "fh = open(\"SLURM_job.sh\", \"a\") \n",
    "fh.write(\" \"+num_file) \n",
    "fh.close() \n",
    "fh = open(\"taskfile\", \"a\") \n",
    "fh.write(\" \"+d+\" \"+\"1\"+\" \"+mu+\" \"+size+\" \"+prefactor+\" \"+exponent+\" \"+\"$HT_TASK_ID\"+\"\\n\") \n",
    "fh.close()\n",
    "\n",
    "#call([\"sbatch SLURM_job.sh\"])\n",
    "\n"
   ]
  },
  {
   "cell_type": "code",
   "execution_count": null,
   "metadata": {},
   "outputs": [],
   "source": [
    "call(['rm','SLURM_job.sh'])\n",
    "call(['rm','taskfile'])"
   ]
  },
  {
   "cell_type": "markdown",
   "metadata": {},
   "source": [
    "## Network"
   ]
  },
  {
   "cell_type": "code",
   "execution_count": null,
   "metadata": {},
   "outputs": [],
   "source": [
    "call([\"make\",\"-f\",\"makefile_cluster_net\"])"
   ]
  },
  {
   "cell_type": "code",
   "execution_count": 3,
   "metadata": {},
   "outputs": [],
   "source": [
    "call(['cp','SLURM_job_base.sh','SLURM_job.sh'])\n",
    "call(['cp','taskfile_base_net','taskfile'])\n",
    "\n",
    "d=\"1\"\n",
    "num_file=\"20\"\n",
    "mu=\"0.8\"\n",
    "size=\"1e6\"\n",
    "prefactor=\"0\"\n",
    "exponent=\"0\"\n",
    "num_edges=\"8\"\n",
    "\n",
    "directory=\"./data/network/\"+\"d\"+d+\"u\"+mu+\"c\"+prefactor+\"r\"+exponent+\"t\"+size+\"k\"+num_edges\n",
    "\n",
    "try:\n",
    "    os.stat(directory)\n",
    "except:\n",
    "    os.mkdir(directory)\n",
    "    \n",
    "fh = open(\"SLURM_job.sh\", \"a\") \n",
    "fh.write(\" \"+num_file) \n",
    "fh.close() \n",
    "fh = open(\"taskfile\", \"a\") \n",
    "fh.write(\" \"+d+\" \"+\"1\"+\" \"+mu+\" \"+size+\" \"+prefactor+\" \"+exponent+\" \"+num_edges+\" \"+\"$HT_TASK_ID\"+\"\\n\") \n",
    "fh.close()\n",
    "\n"
   ]
  },
  {
   "cell_type": "code",
   "execution_count": null,
   "metadata": {},
   "outputs": [],
   "source": []
  }
 ],
 "metadata": {
  "kernelspec": {
   "display_name": "Python 3",
   "language": "python",
   "name": "python3"
  },
  "language_info": {
   "codemirror_mode": {
    "name": "ipython",
    "version": 3
   },
   "file_extension": ".py",
   "mimetype": "text/x-python",
   "name": "python",
   "nbconvert_exporter": "python",
   "pygments_lexer": "ipython3",
   "version": "3.5.4"
  }
 },
 "nbformat": 4,
 "nbformat_minor": 2
}
